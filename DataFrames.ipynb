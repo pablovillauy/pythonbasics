{
  "nbformat": 4,
  "nbformat_minor": 0,
  "metadata": {
    "colab": {
      "name": "DataFrames.ipynb",
      "provenance": [],
      "collapsed_sections": [],
      "authorship_tag": "ABX9TyNNhN4P5le4fqj1QuCDMI8e",
      "include_colab_link": true
    },
    "kernelspec": {
      "name": "python3",
      "display_name": "Python 3"
    }
  },
  "cells": [
    {
      "cell_type": "markdown",
      "metadata": {
        "id": "view-in-github",
        "colab_type": "text"
      },
      "source": [
        "<a href=\"https://colab.research.google.com/github/pablovillauy/pythonbasics/blob/master/DataFrames.ipynb\" target=\"_parent\"><img src=\"https://colab.research.google.com/assets/colab-badge.svg\" alt=\"Open In Colab\"/></a>"
      ]
    },
    {
      "cell_type": "markdown",
      "metadata": {
        "id": "b_2asFkU8rPL",
        "colab_type": "text"
      },
      "source": [
        "# **DataFrames**\n",
        "\n",
        "In this notebook I will review how to use dataframes.\n",
        "I will use stock prices for the sample.\n"
      ]
    },
    {
      "cell_type": "code",
      "metadata": {
        "id": "NR2dZmaP8Ini",
        "colab_type": "code",
        "colab": {}
      },
      "source": [
        "# import libraries\n",
        "import pandas as pd"
      ],
      "execution_count": 0,
      "outputs": []
    },
    {
      "cell_type": "code",
      "metadata": {
        "id": "DCfBRJCN8beV",
        "colab_type": "code",
        "outputId": "e3e30f13-63fd-4e9a-eb90-6ed45a8bf356",
        "colab": {
          "base_uri": "https://localhost:8080/",
          "height": 345
        }
      },
      "source": [
        "# load the data\n",
        "# get the stock data\n",
        "stockTicker = 'AAPL'\n",
        "\n",
        "# Set dates\n",
        "startDate = '2008-01-01'\n",
        "\n",
        "from datetime import date\n",
        "today = date.today()\n",
        "print(\"Today's date:\", today)\n",
        "endDate = today\n",
        "\n",
        "# endDate = '2020-01-01'\n",
        "\n",
        "# get stock quotes using web datareader\n",
        "import pandas_datareader as web\n",
        "\n",
        "# get the stock quote\n",
        "df = web.DataReader(stockTicker, data_source='yahoo', start=startDate, end=endDate)\n",
        "print(df) # print df sample data\n"
      ],
      "execution_count": 2,
      "outputs": [
        {
          "output_type": "stream",
          "text": [
            "Today's date: 2020-04-07\n"
          ],
          "name": "stdout"
        },
        {
          "output_type": "stream",
          "text": [
            "/usr/local/lib/python3.6/dist-packages/pandas_datareader/compat/__init__.py:7: FutureWarning: pandas.util.testing is deprecated. Use the functions in the public API at pandas.testing instead.\n",
            "  from pandas.util.testing import assert_frame_equal\n"
          ],
          "name": "stderr"
        },
        {
          "output_type": "stream",
          "text": [
            "                  High         Low  ...       Volume   Adj Close\n",
            "Date                                ...                         \n",
            "2008-01-02   28.608572   27.507143  ...  269794700.0   24.161295\n",
            "2008-01-03   28.198572   27.527143  ...  210516600.0   24.172449\n",
            "2008-01-04   27.571428   25.555714  ...  363958000.0   22.327251\n",
            "2008-01-07   26.228571   24.318571  ...  518048300.0   22.028393\n",
            "2008-01-08   26.065714   24.400000  ...  380954000.0   21.235991\n",
            "...                ...         ...  ...          ...         ...\n",
            "2020-03-31  262.489990  252.000000  ...   49250500.0  254.289993\n",
            "2020-04-01  248.720001  239.130005  ...   44054600.0  240.910004\n",
            "2020-04-02  245.149994  236.899994  ...   41483500.0  244.929993\n",
            "2020-04-03  245.699997  238.970001  ...   32470000.0  241.410004\n",
            "2020-04-06  263.109985  249.380005  ...   50289700.0  262.470001\n",
            "\n",
            "[3087 rows x 6 columns]\n"
          ],
          "name": "stdout"
        }
      ]
    },
    {
      "cell_type": "markdown",
      "metadata": {
        "id": "ahO5k3rl_MX2",
        "colab_type": "text"
      },
      "source": [
        "You can also load data from a csv file\n",
        "\n",
        "Example.\n",
        "Load dataset.\n",
        "\n",
        "dftrain = pd.read_csv('https://storage.googleapis.com/tf-datasets/titanic/train.csv')"
      ]
    },
    {
      "cell_type": "code",
      "metadata": {
        "id": "fVVSLJccS8Z0",
        "colab_type": "code",
        "colab": {
          "base_uri": "https://localhost:8080/",
          "height": 35
        },
        "outputId": "7d34d109-48f9-4d82-dcb1-0c00b025848f"
      },
      "source": [
        "print(type(df))\n",
        "# <class 'pandas.core.frame.DataFrame'>"
      ],
      "execution_count": 3,
      "outputs": [
        {
          "output_type": "stream",
          "text": [
            "<class 'pandas.core.frame.DataFrame'>\n"
          ],
          "name": "stdout"
        }
      ]
    },
    {
      "cell_type": "code",
      "metadata": {
        "id": "ODVQDQWyTB7k",
        "colab_type": "code",
        "colab": {
          "base_uri": "https://localhost:8080/",
          "height": 35
        },
        "outputId": "fec1bf18-7f6a-4e7d-b040-a2299d8d2e5a"
      },
      "source": [
        "print(df.keys())\n",
        "# Index(['High', 'Low', 'Open', 'Close', 'Volume', 'Adj Close'], dtype='object')"
      ],
      "execution_count": 4,
      "outputs": [
        {
          "output_type": "stream",
          "text": [
            "Index(['High', 'Low', 'Open', 'Close', 'Volume', 'Adj Close'], dtype='object')\n"
          ],
          "name": "stdout"
        }
      ]
    },
    {
      "cell_type": "code",
      "metadata": {
        "id": "YaFDMV0C_Bbh",
        "colab_type": "code",
        "outputId": "c964f2aa-7e17-4924-fa50-e7031e800d0f",
        "colab": {
          "base_uri": "https://localhost:8080/",
          "height": 35
        }
      },
      "source": [
        "# explore the data set\n",
        "print(df.shape)"
      ],
      "execution_count": 0,
      "outputs": [
        {
          "output_type": "stream",
          "text": [
            "(3086, 7)\n"
          ],
          "name": "stdout"
        }
      ]
    },
    {
      "cell_type": "code",
      "metadata": {
        "id": "R0lU-cgrCGNd",
        "colab_type": "code",
        "outputId": "27746ea8-d191-407f-efb3-5c39627ca64e",
        "colab": {
          "base_uri": "https://localhost:8080/",
          "height": 292
        }
      },
      "source": [
        "print(df.info)"
      ],
      "execution_count": 0,
      "outputs": [
        {
          "output_type": "stream",
          "text": [
            "<bound method DataFrame.info of             High        Open       Close       Volume   Adj Close       Date\n",
            "1      28.608572   28.467142   27.834286  269794700.0   24.161295 2008-01-02\n",
            "2      28.198572   27.915714   27.847143  210516600.0   24.172449 2008-01-03\n",
            "3      27.571428   27.350000   25.721428  363958000.0   22.327251 2008-01-04\n",
            "4      26.228571   25.892857   25.377142  518048300.0   22.028393 2008-01-07\n",
            "5      26.065714   25.734285   24.464285  380954000.0   21.235991 2008-01-08\n",
            "...          ...         ...         ...          ...         ...        ...\n",
            "3082  255.520004  250.740005  254.809998   41994100.0  254.809998 2020-03-30\n",
            "3083  262.489990  255.600006  254.289993   49250500.0  254.289993 2020-03-31\n",
            "3084  248.720001  246.500000  240.910004   44054600.0  240.910004 2020-04-01\n",
            "3085  245.149994  240.339996  244.929993   41483500.0  244.929993 2020-04-02\n",
            "3086  245.699997  242.800003  241.410004   32418200.0  241.410004 2020-04-03\n",
            "\n",
            "[3086 rows x 6 columns]>\n"
          ],
          "name": "stdout"
        }
      ]
    },
    {
      "cell_type": "code",
      "metadata": {
        "id": "tLuILKAnCKsD",
        "colab_type": "code",
        "outputId": "e68c4068-588d-4af5-e98b-98172f090f90",
        "colab": {
          "base_uri": "https://localhost:8080/",
          "height": 292
        }
      },
      "source": [
        "df.describe"
      ],
      "execution_count": 0,
      "outputs": [
        {
          "output_type": "execute_result",
          "data": {
            "text/plain": [
              "<bound method NDFrame.describe of             High        Open       Close       Volume   Adj Close       Date\n",
              "1      28.608572   28.467142   27.834286  269794700.0   24.161295 2008-01-02\n",
              "2      28.198572   27.915714   27.847143  210516600.0   24.172449 2008-01-03\n",
              "3      27.571428   27.350000   25.721428  363958000.0   22.327251 2008-01-04\n",
              "4      26.228571   25.892857   25.377142  518048300.0   22.028393 2008-01-07\n",
              "5      26.065714   25.734285   24.464285  380954000.0   21.235991 2008-01-08\n",
              "...          ...         ...         ...          ...         ...        ...\n",
              "3082  255.520004  250.740005  254.809998   41994100.0  254.809998 2020-03-30\n",
              "3083  262.489990  255.600006  254.289993   49250500.0  254.289993 2020-03-31\n",
              "3084  248.720001  246.500000  240.910004   44054600.0  240.910004 2020-04-01\n",
              "3085  245.149994  240.339996  244.929993   41483500.0  244.929993 2020-04-02\n",
              "3086  245.699997  242.800003  241.410004   32418200.0  241.410004 2020-04-03\n",
              "\n",
              "[3086 rows x 6 columns]>"
            ]
          },
          "metadata": {
            "tags": []
          },
          "execution_count": 24
        }
      ]
    },
    {
      "cell_type": "code",
      "metadata": {
        "id": "3RyW3SutCTiy",
        "colab_type": "code",
        "outputId": "807a8645-d20d-4b6e-8c39-7e9a441da4c8",
        "colab": {
          "base_uri": "https://localhost:8080/",
          "height": 140
        }
      },
      "source": [
        "df.dtypes # shows data type for each column"
      ],
      "execution_count": 0,
      "outputs": [
        {
          "output_type": "execute_result",
          "data": {
            "text/plain": [
              "High                float64\n",
              "Open                float64\n",
              "Close               float64\n",
              "Volume              float64\n",
              "Adj Close           float64\n",
              "Date         datetime64[ns]\n",
              "dtype: object"
            ]
          },
          "metadata": {
            "tags": []
          },
          "execution_count": 25
        }
      ]
    },
    {
      "cell_type": "code",
      "metadata": {
        "id": "smsw6af9Cj1r",
        "colab_type": "code",
        "outputId": "64052d40-7924-414c-ec7c-d702981d0280",
        "colab": {
          "base_uri": "https://localhost:8080/",
          "height": 272
        }
      },
      "source": [
        "print(df.head(10))\n",
        "print(df.tail(2))"
      ],
      "execution_count": 0,
      "outputs": [
        {
          "output_type": "stream",
          "text": [
            "         High       Open      Close       Volume  Adj Close       Date\n",
            "1   28.608572  28.467142  27.834286  269794700.0  24.161295 2008-01-02\n",
            "2   28.198572  27.915714  27.847143  210516600.0  24.172449 2008-01-03\n",
            "3   27.571428  27.350000  25.721428  363958000.0  22.327251 2008-01-04\n",
            "4   26.228571  25.892857  25.377142  518048300.0  22.028393 2008-01-07\n",
            "5   26.065714  25.734285  24.464285  380954000.0  21.235991 2008-01-08\n",
            "6   25.642857  24.471428  25.628571  453470500.0  22.246645 2008-01-09\n",
            "7   25.857143  25.368572  25.431429  370743800.0  22.075516 2008-01-10\n",
            "8   25.407143  25.142857  24.670000  308071400.0  21.414568 2008-01-11\n",
            "9   25.631428  25.360001  25.540001  275112600.0  22.169762 2008-01-14\n",
            "10  25.602858  25.388571  24.148571  585819500.0  20.961945 2008-01-15\n",
            "            High        Open       Close      Volume   Adj Close       Date\n",
            "3085  245.149994  240.339996  244.929993  41483500.0  244.929993 2020-04-02\n",
            "3086  245.699997  242.800003  241.410004  32418200.0  241.410004 2020-04-03\n"
          ],
          "name": "stdout"
        }
      ]
    },
    {
      "cell_type": "code",
      "metadata": {
        "id": "AAmTzLLaCu0v",
        "colab_type": "code",
        "outputId": "0720cc91-f92e-41a6-d445-6393cab7d806",
        "colab": {
          "base_uri": "https://localhost:8080/",
          "height": 90
        }
      },
      "source": [
        "# Get the last row\n",
        "print(df[-1:])\n",
        "print(df.tail(1))\n"
      ],
      "execution_count": 0,
      "outputs": [
        {
          "output_type": "stream",
          "text": [
            "            High        Open       Close      Volume   Adj Close       Date\n",
            "3086  245.699997  242.800003  241.410004  32418200.0  241.410004 2020-04-03\n",
            "            High        Open       Close      Volume   Adj Close       Date\n",
            "3086  245.699997  242.800003  241.410004  32418200.0  241.410004 2020-04-03\n"
          ],
          "name": "stdout"
        }
      ]
    },
    {
      "cell_type": "code",
      "metadata": {
        "id": "FddUgw36DTZ2",
        "colab_type": "code",
        "outputId": "e8939e4e-d009-40af-8b6e-8f37e37e130d",
        "colab": {
          "base_uri": "https://localhost:8080/",
          "height": 35
        }
      },
      "source": [
        "# loc\n",
        "# label based indexing\n",
        "df.loc[:,\"Open\"] # all rows, column \"Open\"\n",
        "df.loc[:,[\"Open\", \"Date\"]] #all rows, column \"Open\" and column \"Date\"\n",
        "df[[\"Open\", \"Date\"]] #all rows, column \"Open\" and column \"Date\"\n",
        "\n",
        "# create new series from an existing dataframe (series is a single column dataframe)\n",
        "abc=df.loc[:,\"Open\"] #all rows, only column \"Open\"\n",
        "type(abc)\n"
      ],
      "execution_count": 0,
      "outputs": [
        {
          "output_type": "execute_result",
          "data": {
            "text/plain": [
              "pandas.core.series.Series"
            ]
          },
          "metadata": {
            "tags": []
          },
          "execution_count": 30
        }
      ]
    },
    {
      "cell_type": "code",
      "metadata": {
        "id": "dKiHLbrs_w_2",
        "colab_type": "code",
        "outputId": "1c54452e-3692-4772-aef0-334a167e0940",
        "colab": {
          "base_uri": "https://localhost:8080/",
          "height": 163
        }
      },
      "source": [
        "# print the first row of the dataset\n",
        "print(df.loc[1])"
      ],
      "execution_count": 0,
      "outputs": [
        {
          "output_type": "stream",
          "text": [
            "High                     28.6086\n",
            "Low                      27.5071\n",
            "Open                     28.4671\n",
            "Close                    27.8343\n",
            "Volume               2.69795e+08\n",
            "Adj Close                24.1613\n",
            "Date         2008-01-02 00:00:00\n",
            "Name: 1, dtype: object\n"
          ],
          "name": "stdout"
        }
      ]
    },
    {
      "cell_type": "code",
      "metadata": {
        "id": "VCUGYmBy9aqp",
        "colab_type": "code",
        "outputId": "84b61870-e4ff-4466-e98b-d672751e2416",
        "colab": {
          "base_uri": "https://localhost:8080/",
          "height": 163
        }
      },
      "source": [
        "print(df.index) # print the index row, in this case is the Date column"
      ],
      "execution_count": 0,
      "outputs": [
        {
          "output_type": "stream",
          "text": [
            "DatetimeIndex(['2008-01-02', '2008-01-03', '2008-01-04', '2008-01-07',\n",
            "               '2008-01-08', '2008-01-09', '2008-01-10', '2008-01-11',\n",
            "               '2008-01-14', '2008-01-15',\n",
            "               ...\n",
            "               '2020-03-23', '2020-03-24', '2020-03-25', '2020-03-26',\n",
            "               '2020-03-27', '2020-03-30', '2020-03-31', '2020-04-01',\n",
            "               '2020-04-02', '2020-04-03'],\n",
            "              dtype='datetime64[ns]', name='Date', length=3086, freq=None)\n"
          ],
          "name": "stdout"
        }
      ]
    },
    {
      "cell_type": "code",
      "metadata": {
        "id": "d9jkQMHw9hrY",
        "colab_type": "code",
        "outputId": "c9bc8f21-34d3-49a0-92b2-554691f2a86c",
        "colab": {
          "base_uri": "https://localhost:8080/",
          "height": 35
        }
      },
      "source": [
        "print(df.columns) # print a list of columns in the dataframe"
      ],
      "execution_count": 0,
      "outputs": [
        {
          "output_type": "stream",
          "text": [
            "Index(['High', 'Low', 'Open', 'Close', 'Volume', 'Adj Close'], dtype='object')\n"
          ],
          "name": "stdout"
        }
      ]
    },
    {
      "cell_type": "code",
      "metadata": {
        "id": "W6JtFcue9trV",
        "colab_type": "code",
        "outputId": "845b62e4-3c03-4e39-a5a0-a9e54483c029",
        "colab": {
          "base_uri": "https://localhost:8080/",
          "height": 35
        }
      },
      "source": [
        "print(len(df)) # print the number of rows of the dataframe"
      ],
      "execution_count": 0,
      "outputs": [
        {
          "output_type": "stream",
          "text": [
            "3086\n"
          ],
          "name": "stdout"
        }
      ]
    },
    {
      "cell_type": "code",
      "metadata": {
        "id": "7ar_XrFaActC",
        "colab_type": "code",
        "outputId": "48f65ca1-20cf-4d48-e2d8-1377ae97745d",
        "colab": {
          "base_uri": "https://localhost:8080/",
          "height": 288
        }
      },
      "source": [
        "df.describe()"
      ],
      "execution_count": 0,
      "outputs": [
        {
          "output_type": "execute_result",
          "data": {
            "text/html": [
              "<div>\n",
              "<style scoped>\n",
              "    .dataframe tbody tr th:only-of-type {\n",
              "        vertical-align: middle;\n",
              "    }\n",
              "\n",
              "    .dataframe tbody tr th {\n",
              "        vertical-align: top;\n",
              "    }\n",
              "\n",
              "    .dataframe thead th {\n",
              "        text-align: right;\n",
              "    }\n",
              "</style>\n",
              "<table border=\"1\" class=\"dataframe\">\n",
              "  <thead>\n",
              "    <tr style=\"text-align: right;\">\n",
              "      <th></th>\n",
              "      <th>High</th>\n",
              "      <th>Open</th>\n",
              "      <th>Close</th>\n",
              "      <th>Volume</th>\n",
              "      <th>Adj Close</th>\n",
              "    </tr>\n",
              "  </thead>\n",
              "  <tbody>\n",
              "    <tr>\n",
              "      <th>count</th>\n",
              "      <td>3086.000000</td>\n",
              "      <td>3086.000000</td>\n",
              "      <td>3086.000000</td>\n",
              "      <td>3.086000e+03</td>\n",
              "      <td>3086.000000</td>\n",
              "    </tr>\n",
              "    <tr>\n",
              "      <th>mean</th>\n",
              "      <td>100.415268</td>\n",
              "      <td>99.445580</td>\n",
              "      <td>99.485092</td>\n",
              "      <td>9.686630e+07</td>\n",
              "      <td>93.709541</td>\n",
              "    </tr>\n",
              "    <tr>\n",
              "      <th>std</th>\n",
              "      <td>67.598855</td>\n",
              "      <td>66.883125</td>\n",
              "      <td>67.003746</td>\n",
              "      <td>8.693601e+07</td>\n",
              "      <td>67.559527</td>\n",
              "    </tr>\n",
              "    <tr>\n",
              "      <th>min</th>\n",
              "      <td>11.714286</td>\n",
              "      <td>11.341429</td>\n",
              "      <td>11.171429</td>\n",
              "      <td>1.136200e+07</td>\n",
              "      <td>9.697256</td>\n",
              "    </tr>\n",
              "    <tr>\n",
              "      <th>25%</th>\n",
              "      <td>47.663928</td>\n",
              "      <td>47.139644</td>\n",
              "      <td>47.272499</td>\n",
              "      <td>3.387042e+07</td>\n",
              "      <td>41.034454</td>\n",
              "    </tr>\n",
              "    <tr>\n",
              "      <th>50%</th>\n",
              "      <td>88.692856</td>\n",
              "      <td>87.985001</td>\n",
              "      <td>87.746429</td>\n",
              "      <td>6.995640e+07</td>\n",
              "      <td>77.040455</td>\n",
              "    </tr>\n",
              "    <tr>\n",
              "      <th>75%</th>\n",
              "      <td>140.107494</td>\n",
              "      <td>139.352497</td>\n",
              "      <td>139.715000</td>\n",
              "      <td>1.276432e+08</td>\n",
              "      <td>133.725937</td>\n",
              "    </tr>\n",
              "    <tr>\n",
              "      <th>max</th>\n",
              "      <td>327.850006</td>\n",
              "      <td>324.739990</td>\n",
              "      <td>327.200012</td>\n",
              "      <td>8.432424e+08</td>\n",
              "      <td>327.200012</td>\n",
              "    </tr>\n",
              "  </tbody>\n",
              "</table>\n",
              "</div>"
            ],
            "text/plain": [
              "              High         Open        Close        Volume    Adj Close\n",
              "count  3086.000000  3086.000000  3086.000000  3.086000e+03  3086.000000\n",
              "mean    100.415268    99.445580    99.485092  9.686630e+07    93.709541\n",
              "std      67.598855    66.883125    67.003746  8.693601e+07    67.559527\n",
              "min      11.714286    11.341429    11.171429  1.136200e+07     9.697256\n",
              "25%      47.663928    47.139644    47.272499  3.387042e+07    41.034454\n",
              "50%      88.692856    87.985001    87.746429  6.995640e+07    77.040455\n",
              "75%     140.107494   139.352497   139.715000  1.276432e+08   133.725937\n",
              "max     327.850006   324.739990   327.200012  8.432424e+08   327.200012"
            ]
          },
          "metadata": {
            "tags": []
          },
          "execution_count": 17
        }
      ]
    },
    {
      "cell_type": "code",
      "metadata": {
        "id": "R0xCj6MpAG_b",
        "colab_type": "code",
        "outputId": "93fbe04b-b5e3-4e83-ee88-4bf8e82eb56c",
        "colab": {
          "base_uri": "https://localhost:8080/",
          "height": 235
        }
      },
      "source": [
        "# remove the column Low and put its values in a new variable\n",
        "low_prices = df.pop('Low')\n",
        "\n",
        "print(low_prices)"
      ],
      "execution_count": 0,
      "outputs": [
        {
          "output_type": "stream",
          "text": [
            "1        27.507143\n",
            "2        27.527143\n",
            "3        25.555714\n",
            "4        24.318571\n",
            "5        24.400000\n",
            "           ...    \n",
            "3082    249.399994\n",
            "3083    252.000000\n",
            "3084    239.130005\n",
            "3085    236.899994\n",
            "3086    238.970001\n",
            "Name: Low, Length: 3086, dtype: float64\n"
          ],
          "name": "stdout"
        }
      ]
    },
    {
      "cell_type": "code",
      "metadata": {
        "id": "4td9_84EAG9-",
        "colab_type": "code",
        "outputId": "2b9a4ed5-632d-49eb-d655-b5a75ed45803",
        "colab": {
          "base_uri": "https://localhost:8080/",
          "height": 283
        }
      },
      "source": [
        "df.Close.hist(bins=5000)"
      ],
      "execution_count": 0,
      "outputs": [
        {
          "output_type": "execute_result",
          "data": {
            "text/plain": [
              "<matplotlib.axes._subplots.AxesSubplot at 0x7f6e7074ff98>"
            ]
          },
          "metadata": {
            "tags": []
          },
          "execution_count": 18
        },
        {
          "output_type": "display_data",
          "data": {
            "image/png": "[encoded data removed]",
            "text/plain": [
              "<Figure size 432x288 with 1 Axes>"
            ]
          },
          "metadata": {
            "tags": []
          }
        }
      ]
    },
    {
      "cell_type": "code",
      "metadata": {
        "id": "2dR2AM9JBPRC",
        "colab_type": "code",
        "outputId": "66e1922f-4541-4b1b-bb85-78a686ee681a",
        "colab": {
          "base_uri": "https://localhost:8080/",
          "height": 287
        }
      },
      "source": [
        "df.Close.plot(kind='barh')"
      ],
      "execution_count": 0,
      "outputs": [
        {
          "output_type": "execute_result",
          "data": {
            "text/plain": [
              "<matplotlib.axes._subplots.AxesSubplot at 0x7f6e70889550>"
            ]
          },
          "metadata": {
            "tags": []
          },
          "execution_count": 20
        },
        {
          "output_type": "display_data",
          "data": {
            "image/png": "[encoded data removed]",
            "text/plain": [
              "<Figure size 432x288 with 1 Axes>"
            ]
          },
          "metadata": {
            "tags": []
          }
        }
      ]
    },
    {
      "cell_type": "code",
      "metadata": {
        "id": "zrQKacApA-XZ",
        "colab_type": "code",
        "outputId": "8462ac97-048f-4488-8443-1bbb5a8b5e7d",
        "colab": {
          "base_uri": "https://localhost:8080/",
          "height": 235
        }
      },
      "source": [
        "df.Volume.value_counts()\n"
      ],
      "execution_count": 0,
      "outputs": [
        {
          "output_type": "execute_result",
          "data": {
            "text/plain": [
              "36529700.0     2\n",
              "192114300.0    2\n",
              "50190000.0     2\n",
              "97909700.0     2\n",
              "24358400.0     2\n",
              "              ..\n",
              "429203600.0    1\n",
              "149590000.0    1\n",
              "97863500.0     1\n",
              "93144800.0     1\n",
              "33816600.0     1\n",
              "Name: Volume, Length: 3078, dtype: int64"
            ]
          },
          "metadata": {
            "tags": []
          },
          "execution_count": 19
        }
      ]
    },
    {
      "cell_type": "code",
      "metadata": {
        "id": "-Vp2uiyY9Jbp",
        "colab_type": "code",
        "outputId": "7d7919fe-0048-426e-ac28-32256ba83a55",
        "colab": {
          "base_uri": "https://localhost:8080/",
          "height": 290
        }
      },
      "source": [
        "# copy df dataframe and change index to a numeric col\n",
        "df2=df\n",
        "print(df2.head())\n",
        "print(df2.index)\n",
        "\n"
      ],
      "execution_count": 0,
      "outputs": [
        {
          "output_type": "stream",
          "text": [
            "                 High        Low       Open      Close       Volume  Adj Close\n",
            "Date                                                                          \n",
            "2008-01-02  28.608572  27.507143  28.467142  27.834286  269794700.0  24.161295\n",
            "2008-01-03  28.198572  27.527143  27.915714  27.847143  210516600.0  24.172449\n",
            "2008-01-04  27.571428  25.555714  27.350000  25.721428  363958000.0  22.327251\n",
            "2008-01-07  26.228571  24.318571  25.892857  25.377142  518048300.0  22.028393\n",
            "2008-01-08  26.065714  24.400000  25.734285  24.464285  380954000.0  21.235991\n",
            "DatetimeIndex(['2008-01-02', '2008-01-03', '2008-01-04', '2008-01-07',\n",
            "               '2008-01-08', '2008-01-09', '2008-01-10', '2008-01-11',\n",
            "               '2008-01-14', '2008-01-15',\n",
            "               ...\n",
            "               '2020-03-23', '2020-03-24', '2020-03-25', '2020-03-26',\n",
            "               '2020-03-27', '2020-03-30', '2020-03-31', '2020-04-01',\n",
            "               '2020-04-02', '2020-04-03'],\n",
            "              dtype='datetime64[ns]', name='Date', length=3086, freq=None)\n"
          ],
          "name": "stdout"
        }
      ]
    },
    {
      "cell_type": "code",
      "metadata": {
        "id": "1xxS72nM97V-",
        "colab_type": "code",
        "outputId": "626c3c8e-09f7-4bfd-a0e0-79f521396676",
        "colab": {
          "base_uri": "https://localhost:8080/",
          "height": 326
        }
      },
      "source": [
        "df2['Date']=df2.index # create a new column called Date and copy values from column index\n",
        "print(df2.head())\n",
        "print(df2.index)\n"
      ],
      "execution_count": 0,
      "outputs": [
        {
          "output_type": "stream",
          "text": [
            "                 High        Low       Open  ...       Volume  Adj Close       Date\n",
            "Date                                         ...                                   \n",
            "2008-01-02  28.608572  27.507143  28.467142  ...  269794700.0  24.161295 2008-01-02\n",
            "2008-01-03  28.198572  27.527143  27.915714  ...  210516600.0  24.172449 2008-01-03\n",
            "2008-01-04  27.571428  25.555714  27.350000  ...  363958000.0  22.327251 2008-01-04\n",
            "2008-01-07  26.228571  24.318571  25.892857  ...  518048300.0  22.028393 2008-01-07\n",
            "2008-01-08  26.065714  24.400000  25.734285  ...  380954000.0  21.235991 2008-01-08\n",
            "\n",
            "[5 rows x 7 columns]\n",
            "DatetimeIndex(['2008-01-02', '2008-01-03', '2008-01-04', '2008-01-07',\n",
            "               '2008-01-08', '2008-01-09', '2008-01-10', '2008-01-11',\n",
            "               '2008-01-14', '2008-01-15',\n",
            "               ...\n",
            "               '2020-03-23', '2020-03-24', '2020-03-25', '2020-03-26',\n",
            "               '2020-03-27', '2020-03-30', '2020-03-31', '2020-04-01',\n",
            "               '2020-04-02', '2020-04-03'],\n",
            "              dtype='datetime64[ns]', name='Date', length=3086, freq=None)\n"
          ],
          "name": "stdout"
        }
      ]
    },
    {
      "cell_type": "code",
      "metadata": {
        "id": "5FubMFhF8oPL",
        "colab_type": "code",
        "outputId": "976e1ab2-ddc3-42d1-fc40-67bc7e410a31",
        "colab": {
          "base_uri": "https://localhost:8080/",
          "height": 181
        }
      },
      "source": [
        "# change the index column values with a numeric sequence\n",
        "df2.index=range(1, len(df2)+1)\n",
        "print(df2.head())\n",
        "print(df2.index)\n"
      ],
      "execution_count": 0,
      "outputs": [
        {
          "output_type": "stream",
          "text": [
            "        High        Low       Open  ...       Volume  Adj Close       Date\n",
            "1  28.608572  27.507143  28.467142  ...  269794700.0  24.161295 2008-01-02\n",
            "2  28.198572  27.527143  27.915714  ...  210516600.0  24.172449 2008-01-03\n",
            "3  27.571428  25.555714  27.350000  ...  363958000.0  22.327251 2008-01-04\n",
            "4  26.228571  24.318571  25.892857  ...  518048300.0  22.028393 2008-01-07\n",
            "5  26.065714  24.400000  25.734285  ...  380954000.0  21.235991 2008-01-08\n",
            "\n",
            "[5 rows x 7 columns]\n",
            "RangeIndex(start=1, stop=3087, step=1)\n"
          ],
          "name": "stdout"
        }
      ]
    },
    {
      "cell_type": "code",
      "metadata": {
        "id": "D63rCnEu-jFP",
        "colab_type": "code",
        "colab": {}
      },
      "source": [
        "# First calculate the mid prices from the highest and lowest\n",
        "high_prices = df.loc[:,'High'].values # create an nparray with the High column, all rows\n",
        "low_prices = df.loc[:,'Low'].values\n",
        "mid_prices = (high_prices+low_prices)/2.0"
      ],
      "execution_count": 0,
      "outputs": []
    },
    {
      "cell_type": "code",
      "metadata": {
        "id": "rpLS6hD0-dBe",
        "colab_type": "code",
        "outputId": "0af050a8-991a-42cb-eca1-58c2996eb8e5",
        "colab": {
          "base_uri": "https://localhost:8080/",
          "height": 35
        }
      },
      "source": [
        "print(type(high_prices))"
      ],
      "execution_count": 0,
      "outputs": [
        {
          "output_type": "stream",
          "text": [
            "<class 'numpy.ndarray'>\n"
          ],
          "name": "stdout"
        }
      ]
    },
    {
      "cell_type": "code",
      "metadata": {
        "id": "qJppea2C-49c",
        "colab_type": "code",
        "outputId": "953d528e-0131-4626-c1b5-acf44d34168e",
        "colab": {
          "base_uri": "https://localhost:8080/",
          "height": 54
        }
      },
      "source": [
        "print(low_prices)"
      ],
      "execution_count": 0,
      "outputs": [
        {
          "output_type": "stream",
          "text": [
            "[ 27.50714302  27.52714348  25.55571365 ... 239.13000488 236.8999939\n",
            " 238.97000122]\n"
          ],
          "name": "stdout"
        }
      ]
    },
    {
      "cell_type": "code",
      "metadata": {
        "id": "fGOYjAWLDicA",
        "colab_type": "code",
        "outputId": "3cb23a55-b193-4fb3-e647-51a34a025695",
        "colab": {
          "base_uri": "https://localhost:8080/",
          "height": 407
        }
      },
      "source": [
        "# Filter data\n",
        "# df3=df.loc[df[\"Stock\"]=='GOOGL', :] #filter condition Stock = GOOGL\n",
        "#df3\n",
        "\n",
        "df3=df.loc[df[\"Close\"]<60, :]\n",
        "df3"
      ],
      "execution_count": 0,
      "outputs": [
        {
          "output_type": "execute_result",
          "data": {
            "text/html": [
              "<div>\n",
              "<style scoped>\n",
              "    .dataframe tbody tr th:only-of-type {\n",
              "        vertical-align: middle;\n",
              "    }\n",
              "\n",
              "    .dataframe tbody tr th {\n",
              "        vertical-align: top;\n",
              "    }\n",
              "\n",
              "    .dataframe thead th {\n",
              "        text-align: right;\n",
              "    }\n",
              "</style>\n",
              "<table border=\"1\" class=\"dataframe\">\n",
              "  <thead>\n",
              "    <tr style=\"text-align: right;\">\n",
              "      <th></th>\n",
              "      <th>High</th>\n",
              "      <th>Open</th>\n",
              "      <th>Close</th>\n",
              "      <th>Volume</th>\n",
              "      <th>Adj Close</th>\n",
              "      <th>Date</th>\n",
              "    </tr>\n",
              "  </thead>\n",
              "  <tbody>\n",
              "    <tr>\n",
              "      <th>1</th>\n",
              "      <td>28.608572</td>\n",
              "      <td>28.467142</td>\n",
              "      <td>27.834286</td>\n",
              "      <td>269794700.0</td>\n",
              "      <td>24.161295</td>\n",
              "      <td>2008-01-02</td>\n",
              "    </tr>\n",
              "    <tr>\n",
              "      <th>2</th>\n",
              "      <td>28.198572</td>\n",
              "      <td>27.915714</td>\n",
              "      <td>27.847143</td>\n",
              "      <td>210516600.0</td>\n",
              "      <td>24.172449</td>\n",
              "      <td>2008-01-03</td>\n",
              "    </tr>\n",
              "    <tr>\n",
              "      <th>3</th>\n",
              "      <td>27.571428</td>\n",
              "      <td>27.350000</td>\n",
              "      <td>25.721428</td>\n",
              "      <td>363958000.0</td>\n",
              "      <td>22.327251</td>\n",
              "      <td>2008-01-04</td>\n",
              "    </tr>\n",
              "    <tr>\n",
              "      <th>4</th>\n",
              "      <td>26.228571</td>\n",
              "      <td>25.892857</td>\n",
              "      <td>25.377142</td>\n",
              "      <td>518048300.0</td>\n",
              "      <td>22.028393</td>\n",
              "      <td>2008-01-07</td>\n",
              "    </tr>\n",
              "    <tr>\n",
              "      <th>5</th>\n",
              "      <td>26.065714</td>\n",
              "      <td>25.734285</td>\n",
              "      <td>24.464285</td>\n",
              "      <td>380954000.0</td>\n",
              "      <td>21.235991</td>\n",
              "      <td>2008-01-08</td>\n",
              "    </tr>\n",
              "    <tr>\n",
              "      <th>...</th>\n",
              "      <td>...</td>\n",
              "      <td>...</td>\n",
              "      <td>...</td>\n",
              "      <td>...</td>\n",
              "      <td>...</td>\n",
              "      <td>...</td>\n",
              "    </tr>\n",
              "    <tr>\n",
              "      <th>1384</th>\n",
              "      <td>58.895714</td>\n",
              "      <td>57.527142</td>\n",
              "      <td>58.459999</td>\n",
              "      <td>97763400.0</td>\n",
              "      <td>51.835533</td>\n",
              "      <td>2013-07-01</td>\n",
              "    </tr>\n",
              "    <tr>\n",
              "      <th>1385</th>\n",
              "      <td>60.232857</td>\n",
              "      <td>58.565716</td>\n",
              "      <td>59.784286</td>\n",
              "      <td>117466300.0</td>\n",
              "      <td>53.009750</td>\n",
              "      <td>2013-07-02</td>\n",
              "    </tr>\n",
              "    <tr>\n",
              "      <th>1387</th>\n",
              "      <td>60.470001</td>\n",
              "      <td>60.055714</td>\n",
              "      <td>59.631428</td>\n",
              "      <td>68506200.0</td>\n",
              "      <td>52.874210</td>\n",
              "      <td>2013-07-05</td>\n",
              "    </tr>\n",
              "    <tr>\n",
              "      <th>1388</th>\n",
              "      <td>60.142857</td>\n",
              "      <td>60.015713</td>\n",
              "      <td>59.292858</td>\n",
              "      <td>74534600.0</td>\n",
              "      <td>52.574001</td>\n",
              "      <td>2013-07-08</td>\n",
              "    </tr>\n",
              "    <tr>\n",
              "      <th>1399</th>\n",
              "      <td>60.994286</td>\n",
              "      <td>60.857143</td>\n",
              "      <td>59.855713</td>\n",
              "      <td>92348900.0</td>\n",
              "      <td>53.073082</td>\n",
              "      <td>2013-07-23</td>\n",
              "    </tr>\n",
              "  </tbody>\n",
              "</table>\n",
              "<p>1032 rows × 6 columns</p>\n",
              "</div>"
            ],
            "text/plain": [
              "           High       Open      Close       Volume  Adj Close       Date\n",
              "1     28.608572  28.467142  27.834286  269794700.0  24.161295 2008-01-02\n",
              "2     28.198572  27.915714  27.847143  210516600.0  24.172449 2008-01-03\n",
              "3     27.571428  27.350000  25.721428  363958000.0  22.327251 2008-01-04\n",
              "4     26.228571  25.892857  25.377142  518048300.0  22.028393 2008-01-07\n",
              "5     26.065714  25.734285  24.464285  380954000.0  21.235991 2008-01-08\n",
              "...         ...        ...        ...          ...        ...        ...\n",
              "1384  58.895714  57.527142  58.459999   97763400.0  51.835533 2013-07-01\n",
              "1385  60.232857  58.565716  59.784286  117466300.0  53.009750 2013-07-02\n",
              "1387  60.470001  60.055714  59.631428   68506200.0  52.874210 2013-07-05\n",
              "1388  60.142857  60.015713  59.292858   74534600.0  52.574001 2013-07-08\n",
              "1399  60.994286  60.857143  59.855713   92348900.0  53.073082 2013-07-23\n",
              "\n",
              "[1032 rows x 6 columns]"
            ]
          },
          "metadata": {
            "tags": []
          },
          "execution_count": 33
        }
      ]
    },
    {
      "cell_type": "code",
      "metadata": {
        "id": "tjCUT34oETIn",
        "colab_type": "code",
        "colab": {}
      },
      "source": [
        "#stocks AAPL, MSFT, GOOGL\n",
        "#df[df[\"Stock\"].isin([\"AAPL\",\"MSFT\",\"GOOGL\"])] #isin operator\n",
        "\n",
        "#df[~df[\"Stock\"].isin([\"AAPL\",\"MSFT\",\"GOOGL\"])] #~isin operator\n"
      ],
      "execution_count": 0,
      "outputs": []
    },
    {
      "cell_type": "code",
      "metadata": {
        "id": "RhIdmmcWDwhF",
        "colab_type": "code",
        "colab": {}
      },
      "source": [
        "# Regular Expressions\n",
        "\n",
        "#and condition\n",
        "df3=df.loc[(df[\"High\"]>60) & (df[\"High\"]<90), :]\n",
        "df3\n",
        "\n",
        "#reset indexes\n",
        "df3.reset_index(inplace=True, drop = True)\n",
        "\n",
        "#inplace means we will re index in the same dataset\n",
        "#drop = True remove the Index column coming from df\n",
        "\n",
        "#sorting\n",
        "df3=df3.sort_values(by=\"Close\", ascending= False)\n",
        "\n",
        "# df4=df.sort_values(by=[\"Industry\",\"Stock\"], ascending= [True, False])\n",
        "df4\n",
        "\n",
        "\n",
        "\n"
      ],
      "execution_count": 0,
      "outputs": []
    },
    {
      "cell_type": "code",
      "metadata": {
        "id": "gmdoQxCFFIox",
        "colab_type": "code",
        "colab": {}
      },
      "source": [
        "#create a column based in a condition\n",
        "import numpy as np\n",
        "df[\"new_column\"]=np.where(df[\"High\"]<90, \"Low EPS\", \"High EPS\")\n",
        "df\n",
        "\n"
      ],
      "execution_count": 0,
      "outputs": []
    },
    {
      "cell_type": "code",
      "metadata": {
        "id": "9psCM8bDFYAU",
        "colab_type": "code",
        "colab": {}
      },
      "source": [
        "#grouping data\n",
        "#SAC: Split Apply Combine\n",
        "import pandas as pd\n",
        "df = pd.read_csv(\"stock.csv\")\n",
        "df\n",
        "\n",
        "#group by Industry\n",
        "#for the column Annual Dividend\n",
        "#calculate the mean value\n",
        "\n",
        "df.groupby(\"Industry\")[\"Annual Dividend\"].agg(\"mean\")\n",
        "#or\n",
        "df.groupby(\"Industry\")[\"Annual Dividend\"].mean()\n",
        "\n",
        "dataframegrouped= df.groupby([\"Industry\",\"FY Month End\"]) \n",
        "dataframegrouped.groups #return groups info\n",
        "\n",
        "#group by Industry\n",
        "# min and max date Last Updated\n",
        "# mean EPS\n",
        "\n",
        "df[\"Last Updated\"]=pd.to_datetime(df[\"Last Updated\"])\n",
        "df.groupby(\"Industry\").agg({\"Last Updated\":[\"min\",\"max\"], \"EPS\":[\"mean\"]})\n",
        "\n"
      ],
      "execution_count": 0,
      "outputs": []
    },
    {
      "cell_type": "code",
      "metadata": {
        "id": "HNFlUBqUFadX",
        "colab_type": "code",
        "colab": {}
      },
      "source": [
        "#save dataframe as csv file\n",
        "df.to_csv(\"my df file.csv\")"
      ],
      "execution_count": 0,
      "outputs": []
    },
    {
      "cell_type": "code",
      "metadata": {
        "id": "Xk6kN5fc-dIV",
        "colab_type": "code",
        "outputId": "d51dff44-983d-499d-ac72-d2471c7249f0",
        "colab": {
          "base_uri": "https://localhost:8080/",
          "height": 438
        }
      },
      "source": [
        "# Data Visualization\n",
        "import matplotlib.pyplot as plt\n",
        "\n",
        "plt.figure(figsize = (18,9))\n",
        "plt.title('Stock Price (close) and Average Price (avg. high and low)')\n",
        "plt.plot(df2.index, df2['Close'], color = 'red', label='Close Price')\n",
        "\n",
        "plt.plot(range(df2.shape[0]),df2['Close'], label='Close Price')\n",
        "\n",
        "plt.xticks(range(0,df2.shape[0],500),df2['Date'].loc[::500],rotation=45)\n",
        "plt.xlabel('Date',fontsize=18)\n",
        "plt.ylabel('Close Price',fontsize=18)\n",
        "plt.show()"
      ],
      "execution_count": 0,
      "outputs": [
        {
          "output_type": "display_data",
          "data": {
            "image/png": "[encoded data removed]",
            "text/plain": [
              "<Figure size 1296x648 with 1 Axes>"
            ]
          },
          "metadata": {
            "tags": []
          }
        }
      ]
    },
    {
      "cell_type": "code",
      "metadata": {
        "id": "oBlD_5Ie-HyB",
        "colab_type": "code",
        "colab": {}
      },
      "source": [
        ""
      ],
      "execution_count": 0,
      "outputs": []
    }
  ]
}